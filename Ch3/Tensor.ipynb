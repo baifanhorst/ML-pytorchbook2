{
 "cells": [
  {
   "cell_type": "code",
   "execution_count": 1,
   "id": "126446af-01bd-498c-bd74-35d3f312a0de",
   "metadata": {},
   "outputs": [],
   "source": [
    "import numpy as np\n",
    "import torch"
   ]
  },
  {
   "cell_type": "code",
   "execution_count": 2,
   "id": "9e27359f-e7eb-49f2-a9ac-97a916f16d5a",
   "metadata": {},
   "outputs": [
    {
     "name": "stdout",
     "output_type": "stream",
     "text": [
      "tensor([1., 1., 1.])\n",
      "tensor(1.)\n",
      "1.0\n",
      "1.0\n"
     ]
    }
   ],
   "source": [
    "a = torch.ones(3)\n",
    "print(a)\n",
    "print(a[1])\n",
    "print(a[1].item())\n",
    "print(float(a[1]))"
   ]
  },
  {
   "cell_type": "code",
   "execution_count": 3,
   "id": "36b1ea61-bfcf-4673-ab08-fca9bca8fa63",
   "metadata": {
    "scrolled": true
   },
   "outputs": [
    {
     "name": "stdout",
     "output_type": "stream",
     "text": [
      "tensor([4., 1., 5., 3., 2., 1.])\n",
      "tensor([[4., 1.],\n",
      "        [5., 3.],\n",
      "        [2., 1.]])\n",
      "torch.Size([3, 2])\n",
      "tensor([5., 3.])\n",
      "tensor([[0., 0.],\n",
      "        [0., 0.],\n",
      "        [0., 0.]])\n"
     ]
    }
   ],
   "source": [
    "points = torch.tensor([4.0, 1.0, 5.0, 3.0, 2.0, 1.0])\n",
    "print(points)\n",
    "\n",
    "points = torch.tensor([[4.0, 1.0], [5.0, 3.0], [2.0, 1.0]])\n",
    "print(points)\n",
    "print(points.shape)\n",
    "print(points[1])\n",
    "\n",
    "points = torch.zeros(3,2)\n",
    "print(points)"
   ]
  },
  {
   "cell_type": "code",
   "execution_count": 4,
   "id": "ece0432f-5ec6-4501-81bb-f52cc82eba51",
   "metadata": {},
   "outputs": [
    {
     "name": "stdout",
     "output_type": "stream",
     "text": [
      "torch.Size([3, 2])\n",
      "torch.Size([1, 3, 2])\n",
      "torch.Size([3, 2])\n"
     ]
    }
   ],
   "source": [
    "points = torch.zeros(3,2)\n",
    "print(points.shape)\n",
    "print(points[None].shape)\n",
    "print(points.shape)"
   ]
  },
  {
   "cell_type": "code",
   "execution_count": 5,
   "id": "acd57946-9cb5-448e-b0d0-6e6aeed32eac",
   "metadata": {},
   "outputs": [
    {
     "name": "stdout",
     "output_type": "stream",
     "text": [
      "torch.Size([3, 5, 5]) torch.Size([2, 3, 5, 5])\n",
      "torch.Size([5, 5]) torch.Size([2, 5, 5])\n"
     ]
    }
   ],
   "source": [
    "# A single RGB image of size 5*5\n",
    "# shape [channels, rows, columns]\n",
    "img_t = torch.randn(3, 5, 5) \n",
    "# A batch of two RGB images\n",
    "# shape [batch, channels, rows, columns]\n",
    "batch_t = torch.randn(2, 3, 5, 5) \n",
    "\n",
    "# Average over the channel dimension\n",
    "# .mean(-3): the mean value along the third-to-last dimension\n",
    "img_gray_naive = img_t.mean(-3)\n",
    "batch_gray_naive = batch_t.mean(-3)\n",
    "print(img_t.shape, batch_t.shape)\n",
    "print(img_gray_naive.shape, batch_gray_naive.shape)"
   ]
  },
  {
   "cell_type": "code",
   "execution_count": 6,
   "id": "46acd584-b3af-42fc-ad93-71848e93bc65",
   "metadata": {},
   "outputs": [],
   "source": [
    "img_t = torch.randn(3, 5, 5) \n",
    "batch_t = torch.randn(2, 3, 5, 5) \n",
    "\n",
    "## Weighted mean\n",
    "# Create weights\n",
    "weights = torch.tensor([0.2126, 0.7152, 0.0722])\n",
    "# Add new trailing dimensions twice by .unsqueeze(-1), so that the tensor has shape [3,1,1]\n",
    "unsqueezed_weights = weights.unsqueeze(-1).unsqueeze_(-1)\n",
    "# Weighted mean using broadcasting\n",
    "# During broadcasting, unsqueezed_weights's shape changes from [3,1,1] tp [3,5,5]\n",
    "# which means every pixel gains the same weights for its 3 channels\n",
    "img_weights = (img_t * unsqueezed_weights)\n",
    "img_gray_weighted = img_weights.sum(-3)\n",
    "# unsqueezed_weights's shape changes from [3,1,1] tp [2,3,5,5]\n",
    "# which means every pixel in every image gains the same weights for its 3 channels\n",
    "batch_weights = (batch_t * unsqueezed_weights)\n",
    "batch_gray_weighted = batch_weights.sum(-3)\n",
    "\n",
    "# Weighted average using einsum\n",
    "img_gray_weighted_fancy = torch.einsum('...chw,c->...hw', img_t, weights)\n",
    "batch_gray_weighted_fancy = torch.einsum('...chw,c->...hw', batch_t, weights)"
   ]
  },
  {
   "cell_type": "code",
   "execution_count": 7,
   "id": "eaad5641-762b-4be5-8080-c5ddf7c91eea",
   "metadata": {},
   "outputs": [
    {
     "name": "stdout",
     "output_type": "stream",
     "text": [
      "tensor([0.2126, 0.7152, 0.0722], names=('channels',))\n",
      "torch.Size([3, 5, 5]) ('channels', 'rows', 'columns')\n",
      "torch.Size([2, 3, 5, 5]) (None, 'channels', 'rows', 'columns')\n",
      "torch.Size([3, 1, 1]) ('channels', 'rows', 'columns')\n",
      "torch.Size([5, 5]) ('rows', 'columns')\n",
      "torch.Size([5, 5]) (None, None)\n"
     ]
    },
    {
     "name": "stderr",
     "output_type": "stream",
     "text": [
      "C:\\Users\\bai_f\\AppData\\Local\\Temp\\ipykernel_24996\\1882677003.py:5: UserWarning: Named tensors and all their associated APIs are an experimental feature and subject to change. Please do not use them for anything important until they are released as stable. (Triggered internally at C:\\cb\\pytorch_1000000000000\\work\\c10/core/TensorImpl.h:1931.)\n",
      "  weights_named = torch.tensor([0.2126, 0.7152, 0.0722], names=('channels',))\n"
     ]
    }
   ],
   "source": [
    "img_t = torch.randn(3, 5, 5) \n",
    "batch_t = torch.randn(2, 3, 5, 5) \n",
    "\n",
    "# Named dimensions\n",
    "weights_named = torch.tensor([0.2126, 0.7152, 0.0722], names=('channels',))\n",
    "print(weights_named)\n",
    "img_named = img_t.refine_names(..., 'channels', 'rows', 'columns')\n",
    "print(img_named.shape, img_named.names)\n",
    "batch_named = batch_t.refine_names(..., 'channels', 'rows', 'columns')\n",
    "print(batch_named.shape, batch_named.names)\n",
    "\n",
    "# Add dimensions by aligning\n",
    "weights_aligned = weights_named.align_as(img_named)\n",
    "print(weights_aligned.shape, weights_aligned.names)\n",
    "\n",
    "# Sum over a named dimension\n",
    "gray_named = (img_named * weights_aligned).sum('channels')\n",
    "print(gray_named.shape, gray_named.names)\n",
    "\n",
    "# Unname a tensor\n",
    "gray_plain = gray_named.rename(None)\n",
    "print(gray_plain.shape, gray_plain.names)"
   ]
  },
  {
   "cell_type": "code",
   "execution_count": 9,
   "id": "4374cf0c-f8a3-49ba-aa1d-1b2236f12032",
   "metadata": {},
   "outputs": [
    {
     "name": "stdout",
     "output_type": "stream",
     "text": [
      "torch.float64\n",
      "torch.int16\n",
      "torch.float32\n",
      "torch.int64\n"
     ]
    }
   ],
   "source": [
    "# Specifying the numeric type with dtype\n",
    "# torch.double == torch.float64\n",
    "double_points = torch.ones(10, 2, dtype=torch.double)\n",
    "print(double_points.dtype)\n",
    "# dtype=torch.short == torch.int16\n",
    "short_points = torch.tensor([[1, 2], [3, 4]], dtype=torch.short)\n",
    "print(short_points.dtype)\n",
    "\n",
    "# Default type\n",
    "# Default float type: torch.float64\n",
    "double_points = torch.ones(10, 2)\n",
    "print(double_points.dtype)\n",
    "# Default in type: torch.int64\n",
    "short_points = torch.tensor([[1, 2], [3, 4]])\n",
    "print(short_points.dtype)"
   ]
  },
  {
   "cell_type": "code",
   "execution_count": 11,
   "id": "eccf17b2-dd67-467d-a422-87a5d7466936",
   "metadata": {},
   "outputs": [
    {
     "name": "stdout",
     "output_type": "stream",
     "text": [
      "torch.float64\n",
      "torch.int16\n",
      "torch.float64\n",
      "torch.int16\n"
     ]
    }
   ],
   "source": [
    "# Change dtypes\n",
    "double_points = torch.zeros(10, 2).double()\n",
    "print(double_points.dtype)\n",
    "short_points = torch.ones(10, 2).short()\n",
    "print(short_points.dtype)\n",
    "\n",
    "# Another way\n",
    "double_points = torch.zeros(10, 2).to(torch.double)\n",
    "print(double_points.dtype)\n",
    "short_points = torch.ones(10, 2).to(dtype=torch.short)\n",
    "print(short_points.dtype)"
   ]
  },
  {
   "cell_type": "code",
   "execution_count": 19,
   "id": "663daeae-b289-44a8-bd0a-3b277b004f41",
   "metadata": {},
   "outputs": [
    {
     "name": "stdout",
     "output_type": "stream",
     "text": [
      " 4.0\n",
      " 1.0\n",
      " 5.0\n",
      " 3.0\n",
      " 2.0\n",
      " 1.0\n",
      "[torch.storage.TypedStorage(dtype=torch.float32, device=cpu) of size 6]\n",
      " 0\n",
      " 0\n",
      " 128\n",
      " 64\n",
      " 0\n",
      " 0\n",
      " 128\n",
      " 63\n",
      " 0\n",
      " 0\n",
      " 160\n",
      " 64\n",
      " 0\n",
      " 0\n",
      " 64\n",
      " 64\n",
      " 0\n",
      " 0\n",
      " 0\n",
      " 64\n",
      " 0\n",
      " 0\n",
      " 128\n",
      " 63\n",
      "[torch.storage.UntypedStorage(device=cpu) of size 24]\n",
      "4.0\n"
     ]
    }
   ],
   "source": [
    "# View and storage\n",
    "points = torch.tensor([[4.0, 1.0], [5.0, 3.0], [2.0, 1.0]])\n",
    "# The code in the book, deprecated in the current pytorch version\n",
    "print( points.storage() )\n",
    "\n",
    "# Recommended version\n",
    "print( points.untyped_storage() )\n",
    "\n",
    "# index into a storage manually\n",
    "points_storage = points.storage()\n",
    "print( points_storage[0] )"
   ]
  },
  {
   "cell_type": "code",
   "execution_count": 23,
   "id": "3ab9cf62-46fc-439e-aad1-793d611f6d1a",
   "metadata": {},
   "outputs": [
    {
     "name": "stdout",
     "output_type": "stream",
     "text": [
      "tensor([[0., 0.],\n",
      "        [0., 0.],\n",
      "        [0., 0.]])\n",
      "tensor([[0., 0.],\n",
      "        [0., 0.],\n",
      "        [0., 0.]])\n",
      "tensor([[1., 1.],\n",
      "        [1., 1.],\n",
      "        [1., 1.]])\n"
     ]
    }
   ],
   "source": [
    "# In-place operations\n",
    "# These operations are marked by a trailing underscore in their name, \n",
    "# like zero_, which indicates that the method operates in place \n",
    "# by modifying the input instead of creating a new output tensor\n",
    "a = torch.ones(3, 2)\n",
    "a.zero_()\n",
    "print(a)"
   ]
  },
  {
   "cell_type": "code",
   "execution_count": 25,
   "id": "135b904a-fcf5-4487-8c53-05ebf0afda2e",
   "metadata": {},
   "outputs": [
    {
     "name": "stdout",
     "output_type": "stream",
     "text": [
      "tensor([0.0000, 1.3170, 1.7627])\n",
      "tensor([1, 2, 3])\n"
     ]
    }
   ],
   "source": [
    "# Any method without the trailing underscore leaves the source tensor unchanged and\n",
    "# instead returns a new tensor\n",
    "a = torch.tensor([1,2,3])\n",
    "print( a.acosh() )\n",
    "print(a)"
   ]
  },
  {
   "cell_type": "code",
   "execution_count": 47,
   "id": "a5b67531-5789-4484-abee-cd76ad4530f0",
   "metadata": {},
   "outputs": [
    {
     "name": "stdout",
     "output_type": "stream",
     "text": [
      "tensor([[4., 1.],\n",
      "        [5., 3.],\n",
      "        [2., 1.]])\n",
      "tensor([5., 3.])\n",
      " 4.0\n",
      " 1.0\n",
      " 5.0\n",
      " 3.0\n",
      " 2.0\n",
      " 1.0\n",
      "[torch.storage.TypedStorage(dtype=torch.float32, device=cpu) of size 6]\n",
      "2\n",
      "0\n",
      "(2, 1)\n",
      "tensor(1.)\n",
      "1.0\n"
     ]
    }
   ],
   "source": [
    "# Offset\n",
    "points = torch.tensor([[4.0, 1.0], [5.0, 3.0], [2.0, 1.0]])\n",
    "print( points )\n",
    "second_point = points[1]\n",
    "print( second_point ) \n",
    "print( points.storage() )\n",
    "# The offset of second_point is 2, since it is the 2nd row of 'points'.\n",
    "# The two elements in the 1st row are skipped, resulting in an offset 2\n",
    "print( second_point.storage_offset() )\n",
    "\n",
    "# The first row starts at the beginning of the storage, so the offset is 0\n",
    "print( points[0].storage_offset() )\n",
    "\n",
    "\n",
    "# Stride\n",
    "# a stride contains the number of steps needed to increase the index by 1 along each dimension,\n",
    "# starting from the 1st element. \n",
    "# In this case, in order to move from a row to the next row, we need to take 2 steps\n",
    "# To move from a column to another column (along a row), we only need to take 1 step\n",
    "print(points.stride())\n",
    "\n",
    "# Accessing an element i, j in a 2D tensor results in accessing \n",
    "# the storage_offset + stride[0] * i + stride[1] * j element in the storage.\n",
    "i,j = 2,1\n",
    "print(points[i,j])\n",
    "ps = points.storage()\n",
    "offset = points.storage_offset()\n",
    "stride = points.stride()\n",
    "print( ps[offset + stride[0] * i + stride[1] * j ]  )"
   ]
  },
  {
   "cell_type": "code",
   "execution_count": 41,
   "id": "7d7114fa-e5fe-49d4-b33d-2bcd73ba685c",
   "metadata": {},
   "outputs": [
    {
     "name": "stdout",
     "output_type": "stream",
     "text": [
      "tensor([10.,  3.])\n",
      "tensor([[4., 1.],\n",
      "        [5., 3.],\n",
      "        [2., 1.]])\n"
     ]
    }
   ],
   "source": [
    "# Operations on a subtensor may change the original tensor\n",
    "# So sometimes we clone the subtensor (make a copy)\n",
    "points = torch.tensor([[4.0, 1.0], [5.0, 3.0], [2.0, 1.0]])\n",
    "second_point = points[1].clone()\n",
    "second_point[0] = 10.0\n",
    "print(second_point)\n",
    "print(points)"
   ]
  },
  {
   "cell_type": "code",
   "execution_count": 45,
   "id": "c66c518d-2319-45b7-96bf-23b5b5471575",
   "metadata": {
    "scrolled": true
   },
   "outputs": [
    {
     "name": "stdout",
     "output_type": "stream",
     "text": [
      "tensor([[4., 1.],\n",
      "        [5., 3.],\n",
      "        [2., 1.]])\n",
      "tensor([[4., 5., 2.],\n",
      "        [1., 3., 1.]])\n",
      "tensor([[4., 5., 2.],\n",
      "        [1., 3., 1.]])\n",
      "True\n",
      "(2, 1)\n",
      "(1, 2)\n"
     ]
    }
   ],
   "source": [
    "# Transposition\n",
    "points = torch.tensor([[4.0, 1.0], [5.0, 3.0], [2.0, 1.0]])\n",
    "print(points)\n",
    "# t() is a shorthand for transpose(), only for 2D tensors\n",
    "print(points.t()) \n",
    "print(points.transpose(0,1))\n",
    "# Sharing the memory\n",
    "print( id(points.t()) == id(points.transpose(0,1)) )\n",
    "\n",
    "# Change in stride\n",
    "points_t = points.t()\n",
    "print(points.stride())\n",
    "print(points_t.stride())"
   ]
  }
 ],
 "metadata": {
  "kernelspec": {
   "display_name": "Python 3 (ipykernel)",
   "language": "python",
   "name": "python3"
  },
  "language_info": {
   "codemirror_mode": {
    "name": "ipython",
    "version": 3
   },
   "file_extension": ".py",
   "mimetype": "text/x-python",
   "name": "python",
   "nbconvert_exporter": "python",
   "pygments_lexer": "ipython3",
   "version": "3.12.3"
  }
 },
 "nbformat": 4,
 "nbformat_minor": 5
}
