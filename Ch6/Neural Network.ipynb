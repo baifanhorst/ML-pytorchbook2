{
 "cells": [
  {
   "cell_type": "code",
   "execution_count": 20,
   "id": "ba1239cf-755e-45df-9ed0-e32b69eb51fa",
   "metadata": {},
   "outputs": [],
   "source": [
    "import numpy as np\n",
    "import torch\n",
    "import torch.optim as optim\n",
    "import matplotlib.pyplot as plt\n",
    "\n",
    "import torch.nn as nn"
   ]
  },
  {
   "cell_type": "markdown",
   "id": "9ab65939-beef-4625-a09a-ade1558c3def",
   "metadata": {},
   "source": [
    "# Create dataset"
   ]
  },
  {
   "cell_type": "code",
   "execution_count": 21,
   "id": "e6497da6-2eed-4eb8-946f-b1aeaa4ae291",
   "metadata": {},
   "outputs": [
    {
     "data": {
      "image/png": "[encoded data removed]",
      "text/plain": [
       "<Figure size 200x200 with 1 Axes>"
      ]
     },
     "metadata": {},
     "output_type": "display_data"
    }
   ],
   "source": [
    "# Dataset for linear regression, y=wx+b\n",
    "# Targets (y)\n",
    "# .unsqueeze turns the 1D vector into a 2D single column tensor\n",
    "t_c = torch.tensor([0.5, 14.0, 15.0, 28.0, 11.0, 8.0, 3.0, -4.0, 6.0, 13.0, 21.0]).unsqueeze(1)\n",
    "# Inputs (x)\n",
    "t_u = torch.tensor([35.7, 55.9, 58.2, 81.9, 56.3, 48.9, 33.9, 21.8, 48.4, 60.4, 68.4]).unsqueeze(1)\n",
    "\n",
    "fig, ax = plt.subplots(nrows=1, ncols=1, figsize=(2, 2)) # Width 2 inches, height 2 inches\n",
    "ax.scatter(t_u, t_c)\n",
    "\n",
    "# Rescaling the input for better gradient computation\n",
    "# Some optimizers are more sensitive to the scale of the data, e.g. the stochastic gradient descent\n",
    "t_un = 0.1 * t_u"
   ]
  },
  {
   "cell_type": "code",
   "execution_count": 22,
   "id": "31be47ca-8d10-4918-bb86-fbf1b0032a52",
   "metadata": {},
   "outputs": [
    {
     "name": "stdout",
     "output_type": "stream",
     "text": [
      "Number of samples 11\n",
      "Validation set size 2\n"
     ]
    }
   ],
   "source": [
    "# Splitting the dataset\n",
    "n_samples = t_u.shape[0]\n",
    "print(\"Number of samples\", n_samples)\n",
    "n_val = int(0.2 * n_samples)\n",
    "print(\"Validation set size\", n_val)\n",
    "# Shuffling the indices of the dataset. The result is a tensor\n",
    "shuffled_indices = torch.randperm(n_samples)\n",
    "# Indices of training and validating sets\n",
    "train_indices = shuffled_indices[:-n_val]\n",
    "val_indices = shuffled_indices[-n_val:]\n",
    "\n",
    "# Training set\n",
    "train_t_u = t_u[train_indices]\n",
    "train_t_c = t_c[train_indices]\n",
    "# Validation set\n",
    "val_t_u = t_u[val_indices]\n",
    "val_t_c = t_c[val_indices]\n",
    "\n",
    "# Rescaled training set\n",
    "train_t_un = 0.1 * train_t_u\n",
    "val_t_un = 0.1 * val_t_u"
   ]
  },
  {
   "cell_type": "code",
   "execution_count": 23,
   "id": "ac3eeae5-712a-4ab4-98b5-7a938a63eeec",
   "metadata": {},
   "outputs": [
    {
     "name": "stdout",
     "output_type": "stream",
     "text": [
      "Sequential(\n",
      "  (0): Linear(in_features=1, out_features=13, bias=True)\n",
      "  (1): Tanh()\n",
      "  (2): Linear(in_features=13, out_features=1, bias=True)\n",
      ")\n"
     ]
    }
   ],
   "source": [
    "# Define a neural network\n",
    "seq_model = nn.Sequential(\n",
    "            nn.Linear(1, 13),\n",
    "            nn.Tanh(),\n",
    "            nn.Linear(13, 1))\n",
    "print(seq_model)"
   ]
  },
  {
   "cell_type": "code",
   "execution_count": 24,
   "id": "372fef71-0dff-47d7-9564-7a531cf9dfe8",
   "metadata": {},
   "outputs": [
    {
     "name": "stdout",
     "output_type": "stream",
     "text": [
      "torch.Size([13, 1])\n",
      "torch.Size([13])\n",
      "torch.Size([1, 13])\n",
      "torch.Size([1])\n"
     ]
    }
   ],
   "source": [
    "# Show the shape of the parameters\n",
    "# The first layer takes 1 input and gives 13 outputs\n",
    "# Each output comes from a linear map like wx+b\n",
    "# The second layer takes 13 inputs and gives 1 output\n",
    "# The output comes from a linear map like w1 x1 + ... w13 x13 + b\n",
    "for param in seq_model.parameters():\n",
    "    print(param.shape)"
   ]
  },
  {
   "cell_type": "code",
   "execution_count": 25,
   "id": "fd4b351b-085f-478f-b975-7e5e2b53e41f",
   "metadata": {},
   "outputs": [
    {
     "name": "stdout",
     "output_type": "stream",
     "text": [
      "0.weight torch.Size([13, 1])\n",
      "0.bias torch.Size([13])\n",
      "2.weight torch.Size([1, 13])\n",
      "2.bias torch.Size([1])\n"
     ]
    }
   ],
   "source": [
    "# Show the names and shapes of the parameters\n",
    "for name, param in seq_model.named_parameters():\n",
    "    print(name, param.shape)"
   ]
  },
  {
   "cell_type": "code",
   "execution_count": 26,
   "id": "04783c62-17db-484b-ae1f-c61e3f82c84b",
   "metadata": {},
   "outputs": [
    {
     "name": "stdout",
     "output_type": "stream",
     "text": [
      "Linear(in_features=1, out_features=13, bias=True)\n"
     ]
    }
   ],
   "source": [
    "# Get individual layer\n",
    "print( seq_model[0] )"
   ]
  },
  {
   "cell_type": "code",
   "execution_count": 27,
   "id": "09e240e4-1118-45bc-8484-df4dd5a52337",
   "metadata": {
    "scrolled": true
   },
   "outputs": [
    {
     "name": "stdout",
     "output_type": "stream",
     "text": [
      "Epoch 1, Training loss 235.8648, Validation loss 116.4390\n",
      "Epoch 2, Training loss 172.2986, Validation loss 61.7115\n",
      "Epoch 3, Training loss 135.3139, Validation loss 32.0098\n",
      "Epoch 1000, Training loss 7.7418, Validation loss 2.5659\n",
      "Epoch 2000, Training loss 1.1621, Validation loss 3.1298\n",
      "Epoch 3000, Training loss 1.0202, Validation loss 4.8915\n",
      "Epoch 4000, Training loss 0.9237, Validation loss 4.7614\n",
      "Epoch 5000, Training loss 0.8671, Validation loss 4.6745\n",
      "Epoch 6000, Training loss 0.8280, Validation loss 4.6167\n",
      "Epoch 7000, Training loss 0.7997, Validation loss 4.5801\n",
      "Epoch 8000, Training loss 0.7783, Validation loss 4.5592\n",
      "Epoch 9000, Training loss 0.7616, Validation loss 4.5489\n",
      "Epoch 10000, Training loss 0.7481, Validation loss 4.5457\n",
      "Prediction on the validation set tensor([[13.7855],\n",
      "        [ 7.1146]], grad_fn=<AddmmBackward0>)\n",
      "True validation set targets tensor([[11.],\n",
      "        [ 8.]])\n"
     ]
    }
   ],
   "source": [
    "# Training loop\n",
    "def training_loop(n_epochs, optimizer, model, loss_fn, \n",
    "                  train_t_u, val_t_u, train_t_c, val_t_c):\n",
    "    \n",
    "    for epoch in range(1, n_epochs + 1):\n",
    "        # Forward propagation (computing the loss)\n",
    "        train_loss = loss_fn(model(train_t_u), train_t_c)\n",
    "        val_loss = loss_fn(model(val_t_u), val_t_c)\n",
    "        \n",
    "        optimizer.zero_grad()\n",
    "        train_loss.backward()\n",
    "        optimizer.step()\n",
    "        \n",
    "        if epoch <= 3 or epoch % 1000 == 0:\n",
    "            print(f\"Epoch {epoch}, Training loss {train_loss.item():.4f},\"\n",
    "                    f\" Validation loss {val_loss.item():.4f}\")\n",
    "\n",
    "\n",
    "\n",
    "# Number of epochs\n",
    "n_epochs=10000\n",
    "# Create an optimizer\n",
    "# Note that the first argument of optim.SGD must be an iterable\n",
    "# linear_model.parameters() creates a generator of the parameters\n",
    "optimizer = optim.SGD(seq_model.parameters(), lr=1e-2)\n",
    "\n",
    "# Use pytorch's mean square loss \n",
    "# loss_fn=nn.MSELoss() creates an object. We can use it as loss_fn(Predictions, Targets),\n",
    "# just the same as our manually defined loss in the last chapter\n",
    "loss_fn=nn.MSELoss()\n",
    "training_loop(n_epochs, optimizer, seq_model, loss_fn, \n",
    "              train_t_un, val_t_un, train_t_c, val_t_c)\n",
    "\n",
    "print(\"Prediction on the validation set\", seq_model(val_t_un))\n",
    "print(\"True validation set targets\", val_t_c)"
   ]
  },
  {
   "cell_type": "code",
   "execution_count": 33,
   "id": "b481dd38-784f-4e13-bc82-8a056a4e57b6",
   "metadata": {},
   "outputs": [
    {
     "data": {
      "text/plain": [
       "<matplotlib.legend.Legend at 0x23a1fb534a0>"
      ]
     },
     "execution_count": 33,
     "metadata": {},
     "output_type": "execute_result"
    },
    {
     "data": {
      "image/png": "[encoded data removed]",
      "text/plain": [
       "<Figure size 400x400 with 1 Axes>"
      ]
     },
     "metadata": {},
     "output_type": "display_data"
    }
   ],
   "source": [
    "fig, ax = plt.subplots(nrows=1, ncols=1, figsize=(4, 4)) # Width 4 inches, height 4 inches\n",
    "ax.scatter(t_u, t_c, label=\"True\")\n",
    "# To plot the prediction, we need to stop autograd, otherwise matplotlib will raise error\n",
    "# .detach creates a new tensor that shares the same storage but without autograd\n",
    "ax.scatter(t_u, seq_model(t_un).detach(), label=\"Prediction\")\n",
    "ax.legend()"
   ]
  }
 ],
 "metadata": {
  "kernelspec": {
   "display_name": "Python 3 (ipykernel)",
   "language": "python",
   "name": "python3"
  },
  "language_info": {
   "codemirror_mode": {
    "name": "ipython",
    "version": 3
   },
   "file_extension": ".py",
   "mimetype": "text/x-python",
   "name": "python",
   "nbconvert_exporter": "python",
   "pygments_lexer": "ipython3",
   "version": "3.12.3"
  }
 },
 "nbformat": 4,
 "nbformat_minor": 5
}
