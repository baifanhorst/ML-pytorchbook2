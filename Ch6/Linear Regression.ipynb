{
 "cells": [
  {
   "cell_type": "code",
   "execution_count": 44,
   "id": "ba1239cf-755e-45df-9ed0-e32b69eb51fa",
   "metadata": {},
   "outputs": [],
   "source": [
    "import numpy as np\n",
    "import torch\n",
    "import torch.optim as optim\n",
    "import matplotlib.pyplot as plt\n",
    "\n",
    "import torch.nn as nn"
   ]
  },
  {
   "cell_type": "markdown",
   "id": "9ab65939-beef-4625-a09a-ade1558c3def",
   "metadata": {},
   "source": [
    "# Create dataset"
   ]
  },
  {
   "cell_type": "code",
   "execution_count": 45,
   "id": "e6497da6-2eed-4eb8-946f-b1aeaa4ae291",
   "metadata": {},
   "outputs": [
    {
     "data": {
      "image/png": "[encoded data removed]",
      "text/plain": [
       "<Figure size 200x200 with 1 Axes>"
      ]
     },
     "metadata": {},
     "output_type": "display_data"
    }
   ],
   "source": [
    "# Dataset for linear regression, y=wx+b\n",
    "# Targets (y)\n",
    "# .unsqueeze turns the 1D vector into a 2D single column tensor\n",
    "t_c = torch.tensor([0.5, 14.0, 15.0, 28.0, 11.0, 8.0, 3.0, -4.0, 6.0, 13.0, 21.0]).unsqueeze(1)\n",
    "# Inputs (x)\n",
    "t_u = torch.tensor([35.7, 55.9, 58.2, 81.9, 56.3, 48.9, 33.9, 21.8, 48.4, 60.4, 68.4]).unsqueeze(1)\n",
    "\n",
    "fig, ax = plt.subplots(nrows=1, ncols=1, figsize=(2, 2)) # Width 2 inches, height 2 inches\n",
    "ax.scatter(t_u, t_c)\n",
    "\n",
    "# Rescaling the input for better gradient computation\n",
    "# Some optimizers are more sensitive to the scale of the data, e.g. the stochastic gradient descent\n",
    "t_un = 0.1 * t_u"
   ]
  },
  {
   "cell_type": "code",
   "execution_count": 46,
   "id": "31be47ca-8d10-4918-bb86-fbf1b0032a52",
   "metadata": {},
   "outputs": [
    {
     "name": "stdout",
     "output_type": "stream",
     "text": [
      "Number of samples 11\n",
      "Validation set size 2\n"
     ]
    }
   ],
   "source": [
    "# Splitting the dataset\n",
    "n_samples = t_u.shape[0]\n",
    "print(\"Number of samples\", n_samples)\n",
    "n_val = int(0.2 * n_samples)\n",
    "print(\"Validation set size\", n_val)\n",
    "# Shuffling the indices of the dataset. The result is a tensor\n",
    "shuffled_indices = torch.randperm(n_samples)\n",
    "# Indices of training and validating sets\n",
    "train_indices = shuffled_indices[:-n_val]\n",
    "val_indices = shuffled_indices[-n_val:]\n",
    "\n",
    "# Training set\n",
    "train_t_u = t_u[train_indices]\n",
    "train_t_c = t_c[train_indices]\n",
    "# Validation set\n",
    "val_t_u = t_u[val_indices]\n",
    "val_t_c = t_c[val_indices]\n",
    "\n",
    "# Rescaled training set\n",
    "train_t_un = 0.1 * train_t_u\n",
    "val_t_un = 0.1 * val_t_u"
   ]
  },
  {
   "cell_type": "code",
   "execution_count": 47,
   "id": "a959d3bb-d99d-49be-80e1-6e187f647b2a",
   "metadata": {},
   "outputs": [
    {
     "name": "stdout",
     "output_type": "stream",
     "text": [
      "Weight Parameter containing:\n",
      "tensor([[-0.0372]], requires_grad=True)\n",
      "Bias Parameter containing:\n",
      "tensor([-0.2327], requires_grad=True)\n",
      "[Parameter containing:\n",
      "tensor([[-0.0372]], requires_grad=True), Parameter containing:\n",
      "tensor([-0.2327], requires_grad=True)]\n",
      "Output of the validation set:\n",
      " tensor([[-0.4421],\n",
      "        [-0.4492],\n",
      "        [-0.4146],\n",
      "        [-0.4574],\n",
      "        [-0.4406],\n",
      "        [-0.4871],\n",
      "        [-0.5373],\n",
      "        [-0.3655],\n",
      "        [-0.3588]], grad_fn=<AddmmBackward0>)\n"
     ]
    }
   ],
   "source": [
    "# Create a linear model\n",
    "# bias=True: there is a bias for this model. In fact, this is the default setting and we don't need it\n",
    "# Just explicitly show it here.\n",
    "linear_model = nn.Linear(in_features=1, out_features=1, bias=True)\n",
    "# Show its weight and bias\n",
    "print(\"Weight\", linear_model.weight)\n",
    "print(\"Bias\", linear_model.bias)\n",
    "# Show the parameters in another way\n",
    "print(list(linear_model.parameters()))\n",
    "# Apply the model to the validation set\n",
    "print(\"Output of the validation set:\\n\", linear_model(train_t_un) )"
   ]
  },
  {
   "cell_type": "code",
   "execution_count": 48,
   "id": "09e240e4-1118-45bc-8484-df4dd5a52337",
   "metadata": {},
   "outputs": [
    {
     "name": "stdout",
     "output_type": "stream",
     "text": [
      "Epoch 1, Training loss 235.3488, Validation loss 27.3556\n",
      "Epoch 2, Training loss 45.4951, Validation loss 30.7185\n",
      "Epoch 3, Training loss 25.4055, Validation loss 50.0340\n",
      "Epoch 500, Training loss 8.7657, Validation loss 19.3469\n",
      "Epoch 1000, Training loss 4.3531, Validation loss 7.7529\n",
      "Epoch 1500, Training loss 3.0029, Validation loss 5.1903\n",
      "Epoch 2000, Training loss 2.5898, Validation loss 4.9511\n",
      "Epoch 2500, Training loss 2.4634, Validation loss 5.1793\n",
      "Epoch 3000, Training loss 2.4247, Validation loss 5.4158\n",
      "Updated weight and bias Parameter containing:\n",
      "tensor([[5.4729]], requires_grad=True) Parameter containing:\n",
      "tensor([-17.7385], requires_grad=True)\n"
     ]
    }
   ],
   "source": [
    "# Training loop\n",
    "def training_loop(n_epochs, optimizer, model, loss_fn, \n",
    "                  train_t_u, val_t_u, train_t_c, val_t_c):\n",
    "    \n",
    "    for epoch in range(1, n_epochs + 1):\n",
    "        # Forward propagation (computing the loss)\n",
    "        train_loss = loss_fn(model(train_t_u), train_t_c)\n",
    "        val_loss = loss_fn(model(val_t_u), val_t_c)\n",
    "        \n",
    "        optimizer.zero_grad()\n",
    "        train_loss.backward()\n",
    "        optimizer.step()\n",
    "        \n",
    "        if epoch <= 3 or epoch % 500 == 0:\n",
    "            print(f\"Epoch {epoch}, Training loss {train_loss.item():.4f},\"\n",
    "                    f\" Validation loss {val_loss.item():.4f}\")\n",
    "\n",
    "\n",
    "\n",
    "# Number of epochs\n",
    "n_epochs=3000\n",
    "# Create an optimizer\n",
    "# Note that the first argument of optim.SGD must be an iterable\n",
    "# linear_model.parameters() creates a generator of the parameters\n",
    "optimizer = optim.SGD(linear_model.parameters(), lr=1e-2)\n",
    "\n",
    "# Use pytorch's mean square loss \n",
    "# loss_fn=nn.MSELoss() creates an object. We can use it as loss_fn(Predictions, Targets),\n",
    "# just the same as our manually defined loss in the last chapter\n",
    "loss_fn=nn.MSELoss()\n",
    "training_loop(n_epochs, optimizer, linear_model, loss_fn, \n",
    "              train_t_un, val_t_un, train_t_c, val_t_c)\n",
    "print(\"Updated weight and bias\", linear_model.weight, linear_model.bias)"
   ]
  }
 ],
 "metadata": {
  "kernelspec": {
   "display_name": "Python 3 (ipykernel)",
   "language": "python",
   "name": "python3"
  },
  "language_info": {
   "codemirror_mode": {
    "name": "ipython",
    "version": 3
   },
   "file_extension": ".py",
   "mimetype": "text/x-python",
   "name": "python",
   "nbconvert_exporter": "python",
   "pygments_lexer": "ipython3",
   "version": "3.12.3"
  }
 },
 "nbformat": 4,
 "nbformat_minor": 5
}
